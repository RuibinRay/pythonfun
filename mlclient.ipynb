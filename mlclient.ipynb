{
 "cells": [
  {
   "cell_type": "code",
   "execution_count": 1,
   "id": "d1eb34ce-5210-46d4-ae96-4d075d90f5ab",
   "metadata": {},
   "outputs": [],
   "source": [
    "xvals = [-2.022945287808054, -1.8486091760122103, -1.8476481826866842, -1.7435854332654428,\n",
    "         -1.5282423673888716, -1.3945778557109074, -1.1403979924220742, -0.8009077275459544,\n",
    "         -0.7108560219444477, -0.5638678812593274, -0.43048994749879754, -0.4265240230310121,\n",
    "         -0.23456806947264375, -0.08933017942095312, 0.04091978204507629, 0.5542534388866378,\n",
    "         0.5558786314354511, 0.8006640938973202, 1.2144534202678483, 1.9118026057089639]\n",
    "y = [0, 0, 0, 0, 0, 0, 0, 0, 0, 1, 1, 0, 1, 1, 1, 1, 1, 1, 1, 1]"
   ]
  },
  {
   "cell_type": "code",
   "execution_count": 2,
   "id": "7f578f92-8ad0-4506-81c5-0d821bce96c0",
   "metadata": {},
   "outputs": [
    {
     "ename": "IndentationError",
     "evalue": "unindent does not match any outer indentation level (ml.py, line 95)",
     "output_type": "error",
     "traceback": [
      "Traceback \u001b[0;36m(most recent call last)\u001b[0m:\n",
      "\u001b[0m  File \u001b[1;32m~/pythonfun/.pixi/envs/default/lib/python3.12/site-packages/IPython/core/interactiveshell.py:3577\u001b[0m in \u001b[1;35mrun_code\u001b[0m\n    exec(code_obj, self.user_global_ns, self.user_ns)\u001b[0m\n",
      "\u001b[0;36m  Cell \u001b[0;32mIn[2], line 1\u001b[0;36m\n\u001b[0;31m    import ml\u001b[0;36m\n",
      "\u001b[0;36m  File \u001b[0;32m~/pythonfun/ml.py:95\u001b[0;36m\u001b[0m\n\u001b[0;31m    def fit(self, xvalues, yvalues):\u001b[0m\n\u001b[0m                                    ^\u001b[0m\n\u001b[0;31mIndentationError\u001b[0m\u001b[0;31m:\u001b[0m unindent does not match any outer indentation level\n"
     ]
    }
   ],
   "source": [
    "import ml"
   ]
  },
  {
   "cell_type": "code",
   "execution_count": 1,
   "id": "344068f0-a3a2-4e03-958e-e1aff01d1bd6",
   "metadata": {},
   "outputs": [
    {
     "ename": "NameError",
     "evalue": "name 'ml' is not defined",
     "output_type": "error",
     "traceback": [
      "\u001b[0;31m---------------------------------------------------------------------------\u001b[0m",
      "\u001b[0;31mNameError\u001b[0m                                 Traceback (most recent call last)",
      "Cell \u001b[0;32mIn[1], line 1\u001b[0m\n\u001b[0;32m----> 1\u001b[0m slope, intercept \u001b[38;5;241m=\u001b[39m \u001b[43mml\u001b[49m\u001b[38;5;241m.\u001b[39mfit(xvals, y)\n",
      "\u001b[0;31mNameError\u001b[0m: name 'ml' is not defined"
     ]
    }
   ],
   "source": [
    "slope, intercept = ml.fit(xvals, y)"
   ]
  },
  {
   "cell_type": "code",
   "execution_count": null,
   "id": "0955d971-20c6-4488-820a-15b40ccd5668",
   "metadata": {},
   "outputs": [],
   "source": [
    "predict_proba = ml.predict_proba_maker(slope, intercept)\n",
    "predict = ml.predict_maker(slope, intercept)"
   ]
  },
  {
   "cell_type": "code",
   "execution_count": null,
   "id": "a2e01113-06e8-4937-a6a6-5a56437c88c0",
   "metadata": {},
   "outputs": [],
   "source": [
    "predict_proba(xvals)"
   ]
  },
  {
   "cell_type": "code",
   "execution_count": null,
   "id": "f46afbbe-2d94-47d6-a1fa-af1cfe88f587",
   "metadata": {},
   "outputs": [],
   "source": [
    "predict(xvals)"
   ]
  },
  {
   "cell_type": "code",
   "execution_count": null,
   "id": "6ead9b1c-97b6-4b37-9a19-b3343f2ad15e",
   "metadata": {},
   "outputs": [],
   "source": [
    "predict(xvals, t=0.1)"
   ]
  },
  {
   "cell_type": "code",
   "execution_count": null,
   "id": "8f4a63cf-ef96-4cac-b491-dbab2b73745f",
   "metadata": {},
   "outputs": [],
   "source": [
    "m = ml.model()"
   ]
  },
  {
   "cell_type": "code",
   "execution_count": null,
   "id": "3fc38caf-1afd-4f4b-9d11-63d43db746ac",
   "metadata": {},
   "outputs": [],
   "source": [
    "m['fit'](xvals, y)"
   ]
  },
  {
   "cell_type": "code",
   "execution_count": null,
   "id": "d9ab03e0-88e1-4e61-b348-feaeaf6611c5",
   "metadata": {},
   "outputs": [],
   "source": [
    "m['predict_proba'](xvals)"
   ]
  },
  {
   "cell_type": "code",
   "execution_count": null,
   "id": "63e931a1-8602-4dd4-9d21-9f94bac2cfa7",
   "metadata": {},
   "outputs": [],
   "source": [
    "m['predict'](xvals)"
   ]
  },
  {
   "cell_type": "code",
   "execution_count": null,
   "id": "73e8df90-52ed-41b7-ad48-016b53176d2d",
   "metadata": {},
   "outputs": [],
   "source": [
    "m['predict'](xvals, t=0.1)"
   ]
  },
  {
   "cell_type": "code",
   "execution_count": null,
   "id": "b990864f-7496-4846-8b49-e644288cd038",
   "metadata": {},
   "outputs": [],
   "source": [
    "mlm = ml.MLModel()"
   ]
  },
  {
   "cell_type": "code",
   "execution_count": null,
   "id": "945f031d-7451-4124-96e0-e4b6c4fa01b6",
   "metadata": {},
   "outputs": [],
   "source": [
    "mlm.intercept"
   ]
  },
  {
   "cell_type": "code",
   "execution_count": null,
   "id": "c79df351-6bd6-4618-8c8b-7368bd2519f3",
   "metadata": {},
   "outputs": [],
   "source": [
    "mlm.fit(xvals, y)"
   ]
  },
  {
   "cell_type": "code",
   "execution_count": null,
   "id": "07f8e0f2-55b6-4c3f-abd6-543764ce3444",
   "metadata": {},
   "outputs": [],
   "source": [
    "mlm.intercept"
   ]
  },
  {
   "cell_type": "code",
   "execution_count": null,
   "id": "c9093497-a455-4f52-b891-a4a9b937434c",
   "metadata": {},
   "outputs": [],
   "source": [
    "mlm.probabilities"
   ]
  },
  {
   "cell_type": "code",
   "execution_count": null,
   "id": "af00e839-9018-4a85-ae87-88c0785de87d",
   "metadata": {},
   "outputs": [],
   "source": [
    "mlm.predict_proba(xvals)"
   ]
  },
  {
   "cell_type": "code",
   "execution_count": null,
   "id": "b449d01f-d297-4c0c-8917-7b21e586105d",
   "metadata": {},
   "outputs": [],
   "source": [
    "mlm.predictions"
   ]
  },
  {
   "cell_type": "code",
   "execution_count": null,
   "id": "c3f2c592-8762-45e1-b072-0410c69b9b76",
   "metadata": {},
   "outputs": [],
   "source": [
    "mlm.probabilities"
   ]
  },
  {
   "cell_type": "code",
   "execution_count": null,
   "id": "82516a8b-d8de-4715-a1d7-f4f35ab6c9af",
   "metadata": {},
   "outputs": [],
   "source": [
    "mlm.predict(xvals)"
   ]
  },
  {
   "cell_type": "code",
   "execution_count": null,
   "id": "5e907c4b-a98e-4d07-85fd-b4526f3b15fb",
   "metadata": {},
   "outputs": [],
   "source": [
    "mlm.predict(xvals, t=0.1)"
   ]
  },
  {
   "cell_type": "code",
   "execution_count": null,
   "id": "f1ae1059-fb0a-48d8-b48d-1befb1cb1ad7",
   "metadata": {},
   "outputs": [],
   "source": []
  },
  {
   "cell_type": "code",
   "execution_count": null,
   "id": "5d623317-a51f-486b-b18c-7adee83d2b49",
   "metadata": {},
   "outputs": [],
   "source": []
  }
 ],
 "metadata": {
  "kernelspec": {
   "display_name": "Python 3 (ipykernel)",
   "language": "python",
   "name": "python3"
  },
  "language_info": {
   "codemirror_mode": {
    "name": "ipython",
    "version": 3
   },
   "file_extension": ".py",
   "mimetype": "text/x-python",
   "name": "python",
   "nbconvert_exporter": "python",
   "pygments_lexer": "ipython3",
   "version": "3.12.2"
  }
 },
 "nbformat": 4,
 "nbformat_minor": 5
}
