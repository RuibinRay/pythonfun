{
 "cells": [
  {
   "cell_type": "code",
   "execution_count": 2,
   "id": "4f0c21b0-97a9-4f8b-bbe1-7f5ba66a2e4d",
   "metadata": {},
   "outputs": [],
   "source": [
    "class Animal:\n",
    "    def eat(self):\n",
    "        print(\"I eat\")\n",
    "        return None\n",
    "class Cow(Animal):\n",
    "    def eat(self):\n",
    "        print(\"I eat grass\")\n",
    "        return 2\n"
   ]
  },
  {
   "cell_type": "code",
   "execution_count": 3,
   "id": "85447cdb-ef13-48c0-90ba-b1364b7709c7",
   "metadata": {},
   "outputs": [
    {
     "name": "stdout",
     "output_type": "stream",
     "text": [
      "I eat\n"
     ]
    }
   ],
   "source": [
    "a = Animal()\n",
    "a.eat()"
   ]
  },
  {
   "cell_type": "code",
   "execution_count": 4,
   "id": "bbb1b918-9af0-4824-916a-a05c3e61d243",
   "metadata": {},
   "outputs": [
    {
     "name": "stdout",
     "output_type": "stream",
     "text": [
      "I eat grass\n"
     ]
    },
    {
     "data": {
      "text/plain": [
       "2"
      ]
     },
     "execution_count": 4,
     "metadata": {},
     "output_type": "execute_result"
    }
   ],
   "source": [
    "c = Cow()\n",
    "c.eat()"
   ]
  },
  {
   "cell_type": "code",
   "execution_count": 5,
   "id": "02511ac0-fc8b-46d6-a941-4874e3791c2f",
   "metadata": {},
   "outputs": [],
   "source": [
    "class Tiger(Animal):\n",
    "    def eat(self):\n",
    "        print(\"I eat meat\")\n",
    "        return 4\n",
    "    "
   ]
  },
  {
   "cell_type": "code",
   "execution_count": 6,
   "id": "80900acb-3ca5-4c12-a216-09873b84c9f7",
   "metadata": {},
   "outputs": [
    {
     "name": "stdout",
     "output_type": "stream",
     "text": [
      "I eat meat\n"
     ]
    },
    {
     "data": {
      "text/plain": [
       "4"
      ]
     },
     "execution_count": 6,
     "metadata": {},
     "output_type": "execute_result"
    }
   ],
   "source": [
    "t = Tiger()\n",
    "t.eat()"
   ]
  },
  {
   "cell_type": "code",
   "execution_count": 7,
   "id": "a283b9ea-83a2-4be1-abc9-b5eac84316f9",
   "metadata": {},
   "outputs": [
    {
     "name": "stdout",
     "output_type": "stream",
     "text": [
      "I eat meat\n"
     ]
    },
    {
     "data": {
      "text/plain": [
       "4"
      ]
     },
     "execution_count": 7,
     "metadata": {},
     "output_type": "execute_result"
    }
   ],
   "source": [
    "t2 = Tiger()\n",
    "t2.eat()"
   ]
  },
  {
   "cell_type": "code",
   "execution_count": 45,
   "id": "ea6d2165-655b-40b5-8c88-fdf3cf6f1d2e",
   "metadata": {},
   "outputs": [],
   "source": [
    "class Zoo:\n",
    "\n",
    "    def __init__(self,list_of_animals):\n",
    "        self.animals = list_of_animals\n",
    "\n",
    "\n",
    "    def __len__(self):\n",
    "        return len(self.animals)\n",
    "\n",
    "    def __getitem__(self,i):\n",
    "        return self.animals[i]\n",
    "    "
   ]
  },
  {
   "cell_type": "code",
   "execution_count": 46,
   "id": "60427fdc-6179-4cda-8cdb-84fa1be697df",
   "metadata": {},
   "outputs": [],
   "source": [
    "zoo = Zoo([c,t])"
   ]
  },
  {
   "cell_type": "code",
   "execution_count": 47,
   "id": "74f8aed8-1064-4f73-b593-c75f6dc69e16",
   "metadata": {},
   "outputs": [
    {
     "name": "stdout",
     "output_type": "stream",
     "text": [
      "I eat grass\n",
      "I eat meat\n"
     ]
    }
   ],
   "source": [
    "for animal in zoo.animals:\n",
    "    animal.eat()\n",
    "    "
   ]
  },
  {
   "cell_type": "code",
   "execution_count": 48,
   "id": "4b02e3b0-9a45-474e-b622-39abadc4f25f",
   "metadata": {},
   "outputs": [
    {
     "name": "stdout",
     "output_type": "stream",
     "text": [
      "I eat grass\n",
      "I eat meat\n"
     ]
    }
   ],
   "source": [
    "total_food_eaten = 0\n",
    "for animal in zoo.animals:\n",
    "    total_food_eaten += animal.eat()"
   ]
  },
  {
   "cell_type": "code",
   "execution_count": 49,
   "id": "dc80b8ed-01bb-4b31-b4be-b5cc591abc66",
   "metadata": {},
   "outputs": [
    {
     "data": {
      "text/plain": [
       "6"
      ]
     },
     "execution_count": 49,
     "metadata": {},
     "output_type": "execute_result"
    }
   ],
   "source": [
    "total_food_eaten"
   ]
  },
  {
   "cell_type": "code",
   "execution_count": 50,
   "id": "d9301b97-0f38-4d32-a141-eea51e72ea72",
   "metadata": {},
   "outputs": [
    {
     "data": {
      "text/plain": [
       "2"
      ]
     },
     "execution_count": 50,
     "metadata": {},
     "output_type": "execute_result"
    }
   ],
   "source": [
    "len(zoo)"
   ]
  },
  {
   "cell_type": "code",
   "execution_count": 51,
   "id": "f0abcf56-2e29-4974-8360-76bddbe59bd5",
   "metadata": {},
   "outputs": [
    {
     "name": "stdout",
     "output_type": "stream",
     "text": [
      "<__main__.Cow object at 0x1048afcb0>\n",
      "<__main__.Tiger object at 0x10484e030>\n"
     ]
    }
   ],
   "source": [
    "for animal in zoo:\n",
    "    print(animal)"
   ]
  },
  {
   "cell_type": "code",
   "execution_count": 52,
   "id": "d203d6a3-71a0-4911-b881-967a8f94dfbc",
   "metadata": {},
   "outputs": [
    {
     "data": {
      "text/plain": [
       "4"
      ]
     },
     "execution_count": 52,
     "metadata": {},
     "output_type": "execute_result"
    }
   ],
   "source": [
    "len([1,2,3,4])"
   ]
  },
  {
   "cell_type": "code",
   "execution_count": 34,
   "id": "810fcd42-58d9-4621-904a-c32543d62ae1",
   "metadata": {},
   "outputs": [
    {
     "data": {
      "text/plain": [
       "11"
      ]
     },
     "execution_count": 34,
     "metadata": {},
     "output_type": "execute_result"
    }
   ],
   "source": [
    "len(\"hello world\")\n"
   ]
  },
  {
   "cell_type": "code",
   "execution_count": 53,
   "id": "078a3416-3e7f-4c89-b77d-28ad17893fa6",
   "metadata": {},
   "outputs": [
    {
     "name": "stdout",
     "output_type": "stream",
     "text": [
      "h\n",
      "e\n",
      "l\n",
      "l\n",
      "o\n",
      " \n",
      "w\n",
      "o\n",
      "r\n",
      "l\n",
      "d\n"
     ]
    }
   ],
   "source": [
    "for ch in \"hello world\":\n",
    "    print(ch)\n"
   ]
  },
  {
   "cell_type": "code",
   "execution_count": 35,
   "id": "d7bfe804-7ba0-4304-b554-a964d3365e69",
   "metadata": {},
   "outputs": [
    {
     "data": {
      "text/plain": [
       "3"
      ]
     },
     "execution_count": 35,
     "metadata": {},
     "output_type": "execute_result"
    }
   ],
   "source": [
    "len({'a':1,'b':2,'c':3})"
   ]
  },
  {
   "cell_type": "code",
   "execution_count": 55,
   "id": "15a46d4a-9cfc-47ee-bdd4-fe9af0aaed80",
   "metadata": {},
   "outputs": [
    {
     "ename": "SyntaxError",
     "evalue": "Missing parentheses in call to 'print'. Did you mean print(...)? (4151702630.py, line 2)",
     "output_type": "error",
     "traceback": [
      "\u001b[0;36m  Cell \u001b[0;32mIn[55], line 2\u001b[0;36m\u001b[0m\n\u001b[0;31m    print key\u001b[0m\n\u001b[0m    ^\u001b[0m\n\u001b[0;31mSyntaxError\u001b[0m\u001b[0;31m:\u001b[0m Missing parentheses in call to 'print'. Did you mean print(...)?\n"
     ]
    }
   ],
   "source": [
    "for key in {'a':1,'b':2,'c':3}:\n",
    "    print key\n"
   ]
  },
  {
   "cell_type": "code",
   "execution_count": 36,
   "id": "88bf1950-a53e-4c95-ac15-c59de15cdf92",
   "metadata": {},
   "outputs": [
    {
     "data": {
      "text/plain": [
       "4"
      ]
     },
     "execution_count": 36,
     "metadata": {},
     "output_type": "execute_result"
    }
   ],
   "source": [
    "len((1,2,3,4))"
   ]
  },
  {
   "cell_type": "code",
   "execution_count": 37,
   "id": "d299e99b-9acf-46b6-866b-ed8a8115013d",
   "metadata": {},
   "outputs": [],
   "source": [
    "tup = (1,2,3,4)"
   ]
  },
  {
   "cell_type": "code",
   "execution_count": 38,
   "id": "38232af8-ad65-4b11-98a9-f71b812b1228",
   "metadata": {},
   "outputs": [
    {
     "data": {
      "text/plain": [
       "3"
      ]
     },
     "execution_count": 38,
     "metadata": {},
     "output_type": "execute_result"
    }
   ],
   "source": [
    "tup[2]\n"
   ]
  },
  {
   "cell_type": "code",
   "execution_count": 39,
   "id": "59344824-58ed-491c-a52c-cab4d01cf0a8",
   "metadata": {},
   "outputs": [
    {
     "ename": "TypeError",
     "evalue": "'tuple' object does not support item assignment",
     "output_type": "error",
     "traceback": [
      "\u001b[0;31m---------------------------------------------------------------------------\u001b[0m",
      "\u001b[0;31mTypeError\u001b[0m                                 Traceback (most recent call last)",
      "Cell \u001b[0;32mIn[39], line 1\u001b[0m\n\u001b[0;32m----> 1\u001b[0m \u001b[43mtup\u001b[49m\u001b[43m[\u001b[49m\u001b[38;5;241;43m2\u001b[39;49m\u001b[43m]\u001b[49m \u001b[38;5;241m=\u001b[39m \u001b[38;5;241m99\u001b[39m\n",
      "\u001b[0;31mTypeError\u001b[0m: 'tuple' object does not support item assignment"
     ]
    }
   ],
   "source": [
    "tup[2] = 99"
   ]
  },
  {
   "cell_type": "code",
   "execution_count": 42,
   "id": "97d11dcf-e506-4c45-b80c-258a42da587f",
   "metadata": {},
   "outputs": [
    {
     "data": {
      "text/plain": [
       "3"
      ]
     },
     "execution_count": 42,
     "metadata": {},
     "output_type": "execute_result"
    }
   ],
   "source": [
    "len({1,3,5,1,3,5})"
   ]
  },
  {
   "cell_type": "code",
   "execution_count": 65,
   "id": "ac1e7141-abaa-478b-8a6c-3648ad743731",
   "metadata": {},
   "outputs": [],
   "source": [
    "class Vector:\n",
    "    def __init__(self,vlist):\n",
    "        self.c = tuple(vlist)\n",
    "\n",
    "    def __len__(self):\n",
    "        return len(self.c)\n",
    "\n",
    "    def __repr__(self):\n",
    "        return \"Vector{reprlib(self.c}\"\n",
    "        \n",
    "    def __getitem__(self, i):\n",
    "        return self.c[i]\n",
    "\n",
    "    def __add__(self, otherv):\n",
    "        el = []\n",
    "        for i,e in enumerate(self.c):\n",
    "            el.append(e + otherv[i])\n",
    "            return Vector(el)"
   ]
  },
  {
   "cell_type": "code",
   "execution_count": 66,
   "id": "690bb17f-30d2-44c2-900d-831c558ae458",
   "metadata": {},
   "outputs": [],
   "source": [
    "v1 = Vector([1,2])\n",
    "v2 = Vector([1,1])"
   ]
  },
  {
   "cell_type": "code",
   "execution_count": 67,
   "id": "d50f7f86-7b13-472f-b560-6f9331dcdf3f",
   "metadata": {},
   "outputs": [
    {
     "data": {
      "text/plain": [
       "Vector{reprlib(self.c}"
      ]
     },
     "execution_count": 67,
     "metadata": {},
     "output_type": "execute_result"
    }
   ],
   "source": [
    "v1 + v2"
   ]
  },
  {
   "cell_type": "code",
   "execution_count": 63,
   "id": "7817d340-875a-45ec-911b-3e941684642d",
   "metadata": {},
   "outputs": [
    {
     "data": {
      "text/plain": [
       "[1, 2, 3, 4]"
      ]
     },
     "execution_count": 63,
     "metadata": {},
     "output_type": "execute_result"
    }
   ],
   "source": [
    "[1,2]+[3,4]"
   ]
  },
  {
   "cell_type": "code",
   "execution_count": 64,
   "id": "080b60fe-bd38-417f-b35f-aec5ae4ce0e8",
   "metadata": {},
   "outputs": [
    {
     "data": {
      "text/plain": [
       "(1, 2, 3, 4)"
      ]
     },
     "execution_count": 64,
     "metadata": {},
     "output_type": "execute_result"
    }
   ],
   "source": [
    "(1,2)+(3,4)"
   ]
  },
  {
   "cell_type": "code",
   "execution_count": null,
   "id": "200fdfcd-6eaa-45f3-afe2-3a794ffa7b33",
   "metadata": {},
   "outputs": [],
   "source": []
  }
 ],
 "metadata": {
  "kernelspec": {
   "display_name": "Python 3 (ipykernel)",
   "language": "python",
   "name": "python3"
  },
  "language_info": {
   "codemirror_mode": {
    "name": "ipython",
    "version": 3
   },
   "file_extension": ".py",
   "mimetype": "text/x-python",
   "name": "python",
   "nbconvert_exporter": "python",
   "pygments_lexer": "ipython3",
   "version": "3.12.2"
  }
 },
 "nbformat": 4,
 "nbformat_minor": 5
}
