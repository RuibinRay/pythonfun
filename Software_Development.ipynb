{
  "cells": [
    {
      "cell_type": "markdown",
      "metadata": {
        "id": "Y_ip7I7GpYfS"
      },
      "source": [
        "# Software Development"
      ]
    },
    {
      "cell_type": "markdown",
      "metadata": {
        "id": "-ZlOSV-rpYfZ"
      },
      "source": [
        "# Document and Test\n",
        "\n",
        "As we make code changes, we want to be sure that our code is not introducing errors into the computations on vectors.\n",
        "\n",
        "Thus we take all the examples we have been collecting and put them into a test area. Now we'll make sure these examples *ran the way they ran before* when we make *any code changes*.\n",
        "\n",
        "This is called **testing**."
      ]
    },
    {
      "cell_type": "markdown",
      "metadata": {
        "id": "E961ZorqpYfZ"
      },
      "source": [
        "### Document your code using Docstrings"
      ]
    },
    {
      "cell_type": "markdown",
      "metadata": {
        "id": "8otFTk6JpYfZ"
      },
      "source": [
        "We'll start by introducing the simplest way to do this: *doctests*. Doctests puts tests into the *documentation strings* of modules, classes and functions.\n",
        "\n",
        "But we have not used documentation strings so far: these are a great way to document what our function, class, or module is doing.\n",
        "\n",
        "Now the function below really does not need documentation, but bear with me, its a nice small example that illustrates docstrings.\n",
        "\n",
        "Docstrings are strings within double-quotes that document modules, classes, or functions. They come in two flavors:\n",
        "\n",
        "(1) The single line flavor:"
      ]
    },
    {
      "cell_type": "code",
      "execution_count": 1,
      "metadata": {
        "id": "EQiC0uTopYfZ"
      },
      "outputs": [],
      "source": [
        "def square(x):\n",
        "    \"Takes a number x and returns its square\"\n",
        "    return x*x"
      ]
    },
    {
      "cell_type": "markdown",
      "metadata": {
        "id": "DZnrWVsjpYfa"
      },
      "source": [
        "Look at the line just below the function definition. It describes what the function is doing. This is a dostring.\n",
        "\n",
        "(2) The multi-line flavor"
      ]
    },
    {
      "cell_type": "code",
      "execution_count": 2,
      "metadata": {
        "id": "e4pGygm3pYfa"
      },
      "outputs": [],
      "source": [
        "def square(x):\n",
        "    \"\"\"\n",
        "    Takes a number x and returns its square\n",
        "\n",
        "    Parameters\n",
        "    ----------\n",
        "\n",
        "    x : number\n",
        "        An int or floating-point number\n",
        "\n",
        "    Returns\n",
        "    -------\n",
        "\n",
        "    number\n",
        "        A number of the same type as the input\n",
        "\n",
        "\n",
        "    \"\"\"\n",
        "    return x*x"
      ]
    },
    {
      "cell_type": "markdown",
      "metadata": {
        "id": "BGoz5obqpYfa"
      },
      "source": [
        "Here we illustrate the [Numerical and Scientific Python docstring convention](https://numpydoc.readthedocs.io/en/latest/format.html) (the numpy docstring conventions).\n",
        "\n",
        "For a lot of functions and classes this seems excessive (certainly is for `square`). But the numpy conventions are great when we want to communicate what our functions and classes do.\n",
        "\n",
        "### Write Doctests\n",
        "\n",
        "More importantly for us, though, we can use these docstrings to incorporate tests."
      ]
    },
    {
      "cell_type": "code",
      "execution_count": 3,
      "metadata": {
        "id": "vgzEGt2ApYfa"
      },
      "outputs": [],
      "source": [
        "def square(x):\n",
        "    \"\"\"\n",
        "    Takes a number x and returns its square\n",
        "\n",
        "    >>> square(5)\n",
        "    25\n",
        "    >>> square(5.0)\n",
        "    25.0\n",
        "    \"\"\"\n",
        "    return x*x"
      ]
    },
    {
      "cell_type": "markdown",
      "metadata": {
        "id": "stZvWWvXpYfa"
      },
      "source": [
        "The way you specify tests is my writing the code to be tested at a faake prompt \">>>\". Then a space and the code. For example `>>> square(5)`. then on the next line, the expected answer `25` all by itself. More details [here](https://docs.python.org/3/library/doctest.html).\n",
        "\n",
        "The advantage of this format is that you have now provided the user of your function some examples as well..and we all know that examples are the documentation that most people read. Infact, probably the only documentation\n",
        "\n",
        "You can test your function like so:"
      ]
    },
    {
      "cell_type": "code",
      "execution_count": 4,
      "metadata": {
        "colab": {
          "base_uri": "https://localhost:8080/"
        },
        "id": "c3h2QWslpYfb",
        "outputId": "5826f7c0-7264-41c8-9303-f8449f46497f"
      },
      "outputs": [
        {
          "output_type": "stream",
          "name": "stderr",
          "text": [
            "\n",
            "PYDEV DEBUGGER WARNING:\n",
            "sys.settrace() should not be used when the debugger is being used.\n",
            "This may cause the debugger to stop working correctly.\n",
            "If this is needed, please check: \n",
            "http://pydev.blogspot.com/2007/06/why-cant-pydev-debugger-work-with.html\n",
            "to see how to restore the debug tracing back correctly.\n",
            "Call Location:\n",
            "  File \"/usr/lib/python3.10/doctest.py\", line 1501, in run\n",
            "    sys.settrace(save_trace)\n",
            "\n"
          ]
        },
        {
          "output_type": "stream",
          "name": "stdout",
          "text": [
            "Finding tests in NoName\n",
            "Trying:\n",
            "    square(5)\n",
            "Expecting:\n",
            "    25\n",
            "ok\n",
            "Trying:\n",
            "    square(5.0)\n",
            "Expecting:\n",
            "    25.0\n",
            "ok\n"
          ]
        }
      ],
      "source": [
        "import doctest\n",
        "doctest.run_docstring_examples(square, globals(), verbose=True)"
      ]
    },
    {
      "cell_type": "markdown",
      "metadata": {
        "id": "Z_rj0gWSpYfb"
      },
      "source": [
        "Lets mess up the implementation of square to see how it fails:"
      ]
    },
    {
      "cell_type": "code",
      "execution_count": 5,
      "metadata": {
        "id": "foWJDFkbpYfb"
      },
      "outputs": [],
      "source": [
        "def square(x):\n",
        "    \"\"\"\n",
        "    Takes a number x and returns its square\n",
        "\n",
        "    >>> square(5)\n",
        "    25\n",
        "    >>> square(5.0)\n",
        "    25.0\n",
        "    \"\"\"\n",
        "    return x*x*x"
      ]
    },
    {
      "cell_type": "code",
      "execution_count": 6,
      "metadata": {
        "colab": {
          "base_uri": "https://localhost:8080/"
        },
        "id": "q582nDHopYfb",
        "outputId": "8dd34ed6-7912-46a0-bd1b-407908bd9728"
      },
      "outputs": [
        {
          "output_type": "stream",
          "name": "stdout",
          "text": [
            "Finding tests in NoName\n",
            "Trying:\n",
            "    square(5)\n",
            "Expecting:\n",
            "    25\n",
            "**********************************************************************\n",
            "File \"__main__\", line 5, in NoName\n",
            "Failed example:\n",
            "    square(5)\n",
            "Expected:\n",
            "    25\n",
            "Got:\n",
            "    125\n",
            "Trying:\n",
            "    square(5.0)\n",
            "Expecting:\n",
            "    25.0\n",
            "**********************************************************************\n",
            "File \"__main__\", line 7, in NoName\n",
            "Failed example:\n",
            "    square(5.0)\n",
            "Expected:\n",
            "    25.0\n",
            "Got:\n",
            "    125.0\n"
          ]
        }
      ],
      "source": [
        "doctest.run_docstring_examples(square, globals(), verbose=True)"
      ]
    },
    {
      "cell_type": "markdown",
      "metadata": {
        "id": "Jc_7kaPPpYfb"
      },
      "source": [
        "You can see the failures since we implemented a cube instead of a square.\n"
      ]
    }
  ],
  "metadata": {
    "kernelspec": {
      "display_name": "Python 3",
      "language": "python",
      "name": "python3"
    },
    "language_info": {
      "codemirror_mode": {
        "name": "ipython",
        "version": 3
      },
      "file_extension": ".py",
      "mimetype": "text/x-python",
      "name": "python",
      "nbconvert_exporter": "python",
      "pygments_lexer": "ipython3",
      "version": "3.6.8"
    },
    "colab": {
      "provenance": []
    }
  },
  "nbformat": 4,
  "nbformat_minor": 0
}