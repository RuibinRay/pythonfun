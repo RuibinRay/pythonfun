{
 "cells": [
  {
   "cell_type": "code",
   "execution_count": null,
   "id": "9d360016-e30d-4594-a106-b1969e517a71",
   "metadata": {},
   "outputs": [],
   "source": [
    "def test_fit():\n",
    "    x = [0,1]\n",
    "    y =[0,1]\n",
    "    slope, intercept = fit(x,y)\n",
    "    assert slope==9.812037170985635\n",
    "    assert intercept==5.175316482607568"
   ]
  }
 ],
 "metadata": {
  "kernelspec": {
   "display_name": "Python 3 (ipykernel)",
   "language": "python",
   "name": "python3"
  },
  "language_info": {
   "codemirror_mode": {
    "name": "ipython",
    "version": 3
   },
   "file_extension": ".py",
   "mimetype": "text/x-python",
   "name": "python",
   "nbconvert_exporter": "python",
   "pygments_lexer": "ipython3",
   "version": "3.12.2"
  }
 },
 "nbformat": 4,
 "nbformat_minor": 5
}
